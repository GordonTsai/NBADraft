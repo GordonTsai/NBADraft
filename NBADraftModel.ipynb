{
 "cells": [
  {
   "cell_type": "code",
   "execution_count": 1,
   "metadata": {
    "collapsed": false
   },
   "outputs": [
    {
     "name": "stderr",
     "output_type": "stream",
     "text": [
      "/anaconda/envs/py36/lib/python3.6/site-packages/IPython/html.py:14: ShimWarning: The `IPython.html` package has been deprecated since IPython 4.0. You should import from `notebook` instead. `IPython.html.widgets` has moved to `ipywidgets`.\n",
      "  \"`IPython.html.widgets` has moved to `ipywidgets`.\", ShimWarning)\n"
     ]
    }
   ],
   "source": [
    "%matplotlib inline\n",
    "import pprint  \n",
    "import math\n",
    "import numpy as np\n",
    "import numpy.random as npr\n",
    "import pandas as pd\n",
    "import random\n",
    "import warnings\n",
    "import collections as ct\n",
    "from scipy import stats\n",
    "import scipy.stats as st\n",
    "from scipy.stats import norm, rayleigh\n",
    "import seaborn as sns\n",
    "import matplotlib\n",
    "import matplotlib.pyplot as plt\n",
    "from pylab import plot, show,hist,figure,title\n",
    "from sklearn.ensemble import RandomForestRegressor\n",
    "from sklearn.preprocessing import OneHotEncoder\n",
    "from sklearn.preprocessing import Imputer\n",
    "from sklearn.metrics import r2_score"
   ]
  },
  {
   "cell_type": "code",
   "execution_count": 10,
   "metadata": {
    "collapsed": false
   },
   "outputs": [],
   "source": [
    "df = pd.read_csv('NBADraft 1985-2016 Scrape.csv')"
   ]
  },
  {
   "cell_type": "code",
   "execution_count": 11,
   "metadata": {
    "collapsed": true
   },
   "outputs": [],
   "source": [
    "VORP_Per_Pick_Mean = df['NBA VORP'].groupby([df['Pk']]).mean()"
   ]
  },
  {
   "cell_type": "code",
   "execution_count": 19,
   "metadata": {
    "collapsed": true
   },
   "outputs": [],
   "source": [
    "VORP_Per_Pick_High = df['NBA VORP'].groupby([df['Pk']]).max()"
   ]
  },
  {
   "cell_type": "code",
   "execution_count": 30,
   "metadata": {
    "collapsed": true
   },
   "outputs": [],
   "source": [
    "d = {'VORP Per Pick High': VORP_Per_Pick_High[0:60],'VORP Per Pick Mean': VORP_Per_Pick_Mean[0:60]}"
   ]
  },
  {
   "cell_type": "code",
   "execution_count": 34,
   "metadata": {
    "collapsed": true
   },
   "outputs": [],
   "source": [
    "VORP_Per_Pick = pd.DataFrame(data = d)"
   ]
  },
  {
   "cell_type": "code",
   "execution_count": 35,
   "metadata": {
    "collapsed": false
   },
   "outputs": [
    {
     "name": "stdout",
     "output_type": "stream",
     "text": [
      "    VORP Per Pick High  VORP Per Pick Mean\n",
      "Pk                                        \n",
      "1                 89.3           12.174194\n",
      "2                 78.2            6.506452\n",
      "3                  9.8            5.062500\n",
      "4                  9.8            4.740625\n",
      "5                 94.0            7.509375\n",
      "6                  9.9            2.353125\n",
      "7                  7.8            3.125000\n",
      "8                  9.7            3.178125\n",
      "9                 66.0            4.871875\n",
      "10                61.5            5.478125\n",
      "11                63.2            5.077419\n",
      "12                11.4            2.546875\n",
      "13                72.1            4.893750\n",
      "14                 9.5            2.109375\n",
      "15                 9.1            2.409677\n",
      "16                 9.8            1.729032\n",
      "17                 9.8            2.353125\n",
      "18                 9.8            2.346875\n",
      "19                 8.8            1.550000\n",
      "20                 8.4            1.056250\n",
      "21                 9.8            3.246875\n",
      "22                 9.2            2.009375\n",
      "23                 9.8            2.286667\n",
      "24                 9.3            2.596774\n",
      "25                 8.1            0.858065\n",
      "26                 9.0            1.856667\n",
      "27                 8.7            1.890323\n",
      "28                 9.9            1.246667\n",
      "29                 9.4            1.203704\n",
      "30                 8.5            1.331034\n",
      "31                 5.1            0.414286\n",
      "32                 4.6            0.312903\n",
      "33                 5.6            0.340625\n",
      "34                 8.9            0.853571\n",
      "35                 8.7            1.318519\n",
      "36                 9.9            0.696154\n",
      "37                 6.2            1.113793\n",
      "38                 8.2            0.973077\n",
      "39                 7.1            0.840000\n",
      "40                 5.7            0.681481\n",
      "41                 8.3            1.007407\n",
      "42                 8.4            1.126316\n",
      "43                 6.9            0.737037\n",
      "44                 4.5            0.629412\n",
      "45                 9.7            2.365385\n",
      "46                 6.7            0.804167\n",
      "47                 8.9            1.483333\n",
      "48                 9.2            0.845455\n",
      "49                 5.4            0.715789\n",
      "50                 6.4            0.638889\n",
      "51                 9.9            0.537500\n",
      "52                 6.9            0.309091\n",
      "53                 5.8            0.506250\n",
      "54                 4.9            0.566667\n",
      "55                 7.2            1.314286\n",
      "56                 4.0            0.233333\n",
      "57                 7.7            1.625000\n",
      "58                 2.4            0.154545\n",
      "59                 0.0           -0.125000\n",
      "60                 8.8            1.885714\n"
     ]
    }
   ],
   "source": [
    "print(VORP_Per_Pick)"
   ]
  },
  {
   "cell_type": "code",
   "execution_count": 3,
   "metadata": {
    "collapsed": false
   },
   "outputs": [
    {
     "data": {
      "text/html": [
       "<div>\n",
       "<style>\n",
       "    .dataframe thead tr:only-child th {\n",
       "        text-align: right;\n",
       "    }\n",
       "\n",
       "    .dataframe thead th {\n",
       "        text-align: left;\n",
       "    }\n",
       "\n",
       "    .dataframe tbody tr th {\n",
       "        vertical-align: top;\n",
       "    }\n",
       "</style>\n",
       "<table border=\"1\" class=\"dataframe\">\n",
       "  <thead>\n",
       "    <tr style=\"text-align: right;\">\n",
       "      <th></th>\n",
       "      <th>Year</th>\n",
       "      <th>Rk</th>\n",
       "      <th>Pk</th>\n",
       "      <th>Tm</th>\n",
       "      <th>Round 1 Player</th>\n",
       "      <th>Player ID</th>\n",
       "      <th>Round 1 College</th>\n",
       "      <th>Yrs</th>\n",
       "      <th>Totals G</th>\n",
       "      <th>Totals MP</th>\n",
       "      <th>...</th>\n",
       "      <th>Per Game MP</th>\n",
       "      <th>Per Game PTS</th>\n",
       "      <th>Per Game TRB</th>\n",
       "      <th>Per Game AST</th>\n",
       "      <th>Advanced WS</th>\n",
       "      <th>Advanced WS/48</th>\n",
       "      <th>Advanced BPM</th>\n",
       "      <th>College VORP</th>\n",
       "      <th>NBA VORP</th>\n",
       "      <th>NBA VORP Count</th>\n",
       "    </tr>\n",
       "  </thead>\n",
       "  <tbody>\n",
       "    <tr>\n",
       "      <th>0</th>\n",
       "      <td>2016</td>\n",
       "      <td>1</td>\n",
       "      <td>1</td>\n",
       "      <td>PHI</td>\n",
       "      <td>Ben Simmons\\simmobe01</td>\n",
       "      <td>simmobe01</td>\n",
       "      <td>Louisiana State University</td>\n",
       "      <td>NaN</td>\n",
       "      <td>NaN</td>\n",
       "      <td>NaN</td>\n",
       "      <td>...</td>\n",
       "      <td>NaN</td>\n",
       "      <td>NaN</td>\n",
       "      <td>NaN</td>\n",
       "      <td>NaN</td>\n",
       "      <td>NaN</td>\n",
       "      <td>NaN</td>\n",
       "      <td>NaN</td>\n",
       "      <td>NaN</td>\n",
       "      <td>NaN</td>\n",
       "      <td>NaN</td>\n",
       "    </tr>\n",
       "    <tr>\n",
       "      <th>1</th>\n",
       "      <td>2016</td>\n",
       "      <td>2</td>\n",
       "      <td>2</td>\n",
       "      <td>LAL</td>\n",
       "      <td>Brandon Ingram\\ingrabr01</td>\n",
       "      <td>ingrabr01</td>\n",
       "      <td>Duke University</td>\n",
       "      <td>1.0</td>\n",
       "      <td>79.0</td>\n",
       "      <td>2279.0</td>\n",
       "      <td>...</td>\n",
       "      <td>28.8</td>\n",
       "      <td>9.4</td>\n",
       "      <td>4.0</td>\n",
       "      <td>2.1</td>\n",
       "      <td>-0.3</td>\n",
       "      <td>-0.007</td>\n",
       "      <td>-3.8</td>\n",
       "      <td>-1.1</td>\n",
       "      <td>-1.1</td>\n",
       "      <td>2.0</td>\n",
       "    </tr>\n",
       "    <tr>\n",
       "      <th>2</th>\n",
       "      <td>2016</td>\n",
       "      <td>3</td>\n",
       "      <td>3</td>\n",
       "      <td>BOS</td>\n",
       "      <td>Jaylen Brown\\brownja02</td>\n",
       "      <td>brownja02</td>\n",
       "      <td>University of California</td>\n",
       "      <td>1.0</td>\n",
       "      <td>78.0</td>\n",
       "      <td>1341.0</td>\n",
       "      <td>...</td>\n",
       "      <td>17.2</td>\n",
       "      <td>6.6</td>\n",
       "      <td>2.8</td>\n",
       "      <td>0.8</td>\n",
       "      <td>1.5</td>\n",
       "      <td>0.053</td>\n",
       "      <td>-4.0</td>\n",
       "      <td>-0.7</td>\n",
       "      <td>-0.7</td>\n",
       "      <td>2.0</td>\n",
       "    </tr>\n",
       "    <tr>\n",
       "      <th>3</th>\n",
       "      <td>2016</td>\n",
       "      <td>4</td>\n",
       "      <td>4</td>\n",
       "      <td>PHO</td>\n",
       "      <td>Dragan Bender\\bendedr01</td>\n",
       "      <td>bendedr01</td>\n",
       "      <td>No School</td>\n",
       "      <td>1.0</td>\n",
       "      <td>43.0</td>\n",
       "      <td>574.0</td>\n",
       "      <td>...</td>\n",
       "      <td>13.3</td>\n",
       "      <td>3.4</td>\n",
       "      <td>2.4</td>\n",
       "      <td>0.5</td>\n",
       "      <td>-0.3</td>\n",
       "      <td>-0.029</td>\n",
       "      <td>-4.3</td>\n",
       "      <td>-0.3</td>\n",
       "      <td>-0.3</td>\n",
       "      <td>2.0</td>\n",
       "    </tr>\n",
       "    <tr>\n",
       "      <th>4</th>\n",
       "      <td>2016</td>\n",
       "      <td>5</td>\n",
       "      <td>5</td>\n",
       "      <td>MIN</td>\n",
       "      <td>Kris Dunn\\dunnkr01</td>\n",
       "      <td>dunnkr01</td>\n",
       "      <td>Providence College</td>\n",
       "      <td>1.0</td>\n",
       "      <td>78.0</td>\n",
       "      <td>1333.0</td>\n",
       "      <td>...</td>\n",
       "      <td>17.1</td>\n",
       "      <td>3.8</td>\n",
       "      <td>2.1</td>\n",
       "      <td>2.4</td>\n",
       "      <td>0.1</td>\n",
       "      <td>0.004</td>\n",
       "      <td>-2.2</td>\n",
       "      <td>-0.1</td>\n",
       "      <td>-0.1</td>\n",
       "      <td>2.0</td>\n",
       "    </tr>\n",
       "  </tbody>\n",
       "</table>\n",
       "<p>5 rows × 26 columns</p>\n",
       "</div>"
      ],
      "text/plain": [
       "   Year  Rk  Pk   Tm            Round 1 Player  Player ID  \\\n",
       "0  2016   1   1  PHI     Ben Simmons\\simmobe01  simmobe01   \n",
       "1  2016   2   2  LAL  Brandon Ingram\\ingrabr01  ingrabr01   \n",
       "2  2016   3   3  BOS    Jaylen Brown\\brownja02  brownja02   \n",
       "3  2016   4   4  PHO   Dragan Bender\\bendedr01  bendedr01   \n",
       "4  2016   5   5  MIN        Kris Dunn\\dunnkr01   dunnkr01   \n",
       "\n",
       "              Round 1 College  Yrs  Totals G  Totals MP       ...        \\\n",
       "0  Louisiana State University  NaN       NaN        NaN       ...         \n",
       "1             Duke University  1.0      79.0     2279.0       ...         \n",
       "2    University of California  1.0      78.0     1341.0       ...         \n",
       "3                   No School  1.0      43.0      574.0       ...         \n",
       "4          Providence College  1.0      78.0     1333.0       ...         \n",
       "\n",
       "   Per Game MP  Per Game PTS  Per Game TRB  Per Game AST  Advanced WS  \\\n",
       "0          NaN           NaN           NaN           NaN          NaN   \n",
       "1         28.8           9.4           4.0           2.1         -0.3   \n",
       "2         17.2           6.6           2.8           0.8          1.5   \n",
       "3         13.3           3.4           2.4           0.5         -0.3   \n",
       "4         17.1           3.8           2.1           2.4          0.1   \n",
       "\n",
       "   Advanced WS/48  Advanced BPM  College VORP  NBA VORP  NBA VORP Count  \n",
       "0             NaN           NaN           NaN       NaN             NaN  \n",
       "1          -0.007          -3.8          -1.1      -1.1             2.0  \n",
       "2           0.053          -4.0          -0.7      -0.7             2.0  \n",
       "3          -0.029          -4.3          -0.3      -0.3             2.0  \n",
       "4           0.004          -2.2          -0.1      -0.1             2.0  \n",
       "\n",
       "[5 rows x 26 columns]"
      ]
     },
     "execution_count": 3,
     "metadata": {},
     "output_type": "execute_result"
    }
   ],
   "source": [
    "df.head()"
   ]
  },
  {
   "cell_type": "code",
   "execution_count": 4,
   "metadata": {
    "collapsed": false
   },
   "outputs": [],
   "source": [
    "df_filtered = df\n",
    "#enc = OneHotEncoder\n",
    "#df_train['NBA VORP'] = pd.to_numeric(df_train['NBA VORP'], errors='coerce')\n",
    "one_hot_college = pd.get_dummies(df_filtered['Round 1 College'])\n",
    "one_hot_college = one_hot_college.apply(pd.to_numeric, errors='ignore')\n",
    "one_hot_team = pd.get_dummies(df_filtered['Tm'])\n",
    "one_hot_team = one_hot_team.apply(pd.to_numeric, errors='ignore')\n",
    "df_filtered = df_filtered.drop('Round 1 College', axis = 1)\n",
    "df_filtered = df_filtered.drop('Tm', axis = 1)\n",
    "df_filtered = df_filtered.join(one_hot_college)\n",
    "df_filtered = df_filtered.join(one_hot_team)\n",
    "df_temp = df_filtered.iloc[:,5:]\n",
    "df_filtered = df_filtered.drop(df_filtered.columns[5:],axis = 1)"
   ]
  },
  {
   "cell_type": "code",
   "execution_count": 5,
   "metadata": {
    "collapsed": false
   },
   "outputs": [
    {
     "data": {
      "text/html": [
       "<div>\n",
       "<style>\n",
       "    .dataframe thead tr:only-child th {\n",
       "        text-align: right;\n",
       "    }\n",
       "\n",
       "    .dataframe thead th {\n",
       "        text-align: left;\n",
       "    }\n",
       "\n",
       "    .dataframe tbody tr th {\n",
       "        vertical-align: top;\n",
       "    }\n",
       "</style>\n",
       "<table border=\"1\" class=\"dataframe\">\n",
       "  <thead>\n",
       "    <tr style=\"text-align: right;\">\n",
       "      <th></th>\n",
       "      <th>Year</th>\n",
       "      <th>Rk</th>\n",
       "      <th>Pk</th>\n",
       "      <th>Round 1 Player</th>\n",
       "      <th>Player ID</th>\n",
       "    </tr>\n",
       "  </thead>\n",
       "  <tbody>\n",
       "    <tr>\n",
       "      <th>0</th>\n",
       "      <td>2016</td>\n",
       "      <td>1</td>\n",
       "      <td>1</td>\n",
       "      <td>Ben Simmons\\simmobe01</td>\n",
       "      <td>simmobe01</td>\n",
       "    </tr>\n",
       "    <tr>\n",
       "      <th>1</th>\n",
       "      <td>2016</td>\n",
       "      <td>2</td>\n",
       "      <td>2</td>\n",
       "      <td>Brandon Ingram\\ingrabr01</td>\n",
       "      <td>ingrabr01</td>\n",
       "    </tr>\n",
       "    <tr>\n",
       "      <th>2</th>\n",
       "      <td>2016</td>\n",
       "      <td>3</td>\n",
       "      <td>3</td>\n",
       "      <td>Jaylen Brown\\brownja02</td>\n",
       "      <td>brownja02</td>\n",
       "    </tr>\n",
       "    <tr>\n",
       "      <th>3</th>\n",
       "      <td>2016</td>\n",
       "      <td>4</td>\n",
       "      <td>4</td>\n",
       "      <td>Dragan Bender\\bendedr01</td>\n",
       "      <td>bendedr01</td>\n",
       "    </tr>\n",
       "    <tr>\n",
       "      <th>4</th>\n",
       "      <td>2016</td>\n",
       "      <td>5</td>\n",
       "      <td>5</td>\n",
       "      <td>Kris Dunn\\dunnkr01</td>\n",
       "      <td>dunnkr01</td>\n",
       "    </tr>\n",
       "  </tbody>\n",
       "</table>\n",
       "</div>"
      ],
      "text/plain": [
       "   Year  Rk  Pk            Round 1 Player  Player ID\n",
       "0  2016   1   1     Ben Simmons\\simmobe01  simmobe01\n",
       "1  2016   2   2  Brandon Ingram\\ingrabr01  ingrabr01\n",
       "2  2016   3   3    Jaylen Brown\\brownja02  brownja02\n",
       "3  2016   4   4   Dragan Bender\\bendedr01  bendedr01\n",
       "4  2016   5   5        Kris Dunn\\dunnkr01   dunnkr01"
      ]
     },
     "execution_count": 5,
     "metadata": {},
     "output_type": "execute_result"
    }
   ],
   "source": [
    "df_filtered.head()"
   ]
  },
  {
   "cell_type": "code",
   "execution_count": 178,
   "metadata": {
    "collapsed": false
   },
   "outputs": [],
   "source": [
    "fill_NaN = Imputer(missing_values=np.nan, strategy='mean', axis=1)\n",
    "df_imputed = pd.DataFrame(fill_NaN.fit_transform(df_temp))\n",
    "df_imputed.columns = df_temp.columns\n",
    "df_imputed.index = df_temp.index\n",
    "df_filtered = df_filtered.join(df_imputed)\n",
    "df_filtered.dropna()\n",
    "df_query = df_filtered"
   ]
  },
  {
   "cell_type": "code",
   "execution_count": 179,
   "metadata": {
    "collapsed": false
   },
   "outputs": [],
   "source": [
    "drop_index = []\n",
    "for i in range(0,len(df)):\n",
    "    if math.isnan(df_filtered['NBA VORP'][i]) or math.isnan(df_filtered['NBA VORP Count'][i]) or df_filtered['NBA VORP Count'][i] < 3.0:\n",
    "        drop_index.append(i)\n",
    "        \n",
    "df_filtered = df_filtered.drop(df_filtered.index[drop_index])\n",
    "df_filtered['is_train'] = np.random.uniform(0, 1, len(df_filtered)) <= .75\n",
    "train, test = df_filtered[df_filtered['is_train']==True], df_filtered[df_filtered['is_train']==False]\n",
    "train = train.drop('is_train',axis = 1)\n",
    "test = test.drop('is_train', axis = 1)\n",
    "                                                                                             "
   ]
  },
  {
   "cell_type": "code",
   "execution_count": 180,
   "metadata": {
    "collapsed": false
   },
   "outputs": [
    {
     "data": {
      "text/html": [
       "<div>\n",
       "<style>\n",
       "    .dataframe thead tr:only-child th {\n",
       "        text-align: right;\n",
       "    }\n",
       "\n",
       "    .dataframe thead th {\n",
       "        text-align: left;\n",
       "    }\n",
       "\n",
       "    .dataframe tbody tr th {\n",
       "        vertical-align: top;\n",
       "    }\n",
       "</style>\n",
       "<table border=\"1\" class=\"dataframe\">\n",
       "  <thead>\n",
       "    <tr style=\"text-align: right;\">\n",
       "      <th></th>\n",
       "      <th>Year</th>\n",
       "      <th>Rk</th>\n",
       "      <th>Pk</th>\n",
       "      <th>Round 1 Player</th>\n",
       "      <th>Player ID</th>\n",
       "      <th>Yrs</th>\n",
       "      <th>Totals G</th>\n",
       "      <th>Totals MP</th>\n",
       "      <th>Totals PTS</th>\n",
       "      <th>Totals TRB</th>\n",
       "      <th>...</th>\n",
       "      <th>PHO</th>\n",
       "      <th>POR</th>\n",
       "      <th>SAC</th>\n",
       "      <th>SAS</th>\n",
       "      <th>SEA</th>\n",
       "      <th>TOR</th>\n",
       "      <th>UTA</th>\n",
       "      <th>VAN</th>\n",
       "      <th>WAS</th>\n",
       "      <th>WSB</th>\n",
       "    </tr>\n",
       "  </thead>\n",
       "  <tbody>\n",
       "    <tr>\n",
       "      <th>5</th>\n",
       "      <td>2016</td>\n",
       "      <td>6</td>\n",
       "      <td>6</td>\n",
       "      <td>Buddy Hield\\hieldbu01</td>\n",
       "      <td>hieldbu01</td>\n",
       "      <td>1.0</td>\n",
       "      <td>82.0</td>\n",
       "      <td>1888.0</td>\n",
       "      <td>866.0</td>\n",
       "      <td>269.0</td>\n",
       "      <td>...</td>\n",
       "      <td>0.0</td>\n",
       "      <td>0.0</td>\n",
       "      <td>0.0</td>\n",
       "      <td>0.0</td>\n",
       "      <td>0.0</td>\n",
       "      <td>0.0</td>\n",
       "      <td>0.0</td>\n",
       "      <td>0.0</td>\n",
       "      <td>0.0</td>\n",
       "      <td>0.0</td>\n",
       "    </tr>\n",
       "    <tr>\n",
       "      <th>61</th>\n",
       "      <td>2015</td>\n",
       "      <td>2</td>\n",
       "      <td>2</td>\n",
       "      <td>D'Angelo Russell\\russeda01</td>\n",
       "      <td>russeda01</td>\n",
       "      <td>2.0</td>\n",
       "      <td>143.0</td>\n",
       "      <td>4070.0</td>\n",
       "      <td>2038.0</td>\n",
       "      <td>496.0</td>\n",
       "      <td>...</td>\n",
       "      <td>0.0</td>\n",
       "      <td>0.0</td>\n",
       "      <td>0.0</td>\n",
       "      <td>0.0</td>\n",
       "      <td>0.0</td>\n",
       "      <td>0.0</td>\n",
       "      <td>0.0</td>\n",
       "      <td>0.0</td>\n",
       "      <td>0.0</td>\n",
       "      <td>0.0</td>\n",
       "    </tr>\n",
       "    <tr>\n",
       "      <th>62</th>\n",
       "      <td>2015</td>\n",
       "      <td>3</td>\n",
       "      <td>3</td>\n",
       "      <td>Jahlil Okafor\\okafoja01</td>\n",
       "      <td>okafoja01</td>\n",
       "      <td>2.0</td>\n",
       "      <td>103.0</td>\n",
       "      <td>2725.0</td>\n",
       "      <td>1518.0</td>\n",
       "      <td>613.0</td>\n",
       "      <td>...</td>\n",
       "      <td>0.0</td>\n",
       "      <td>0.0</td>\n",
       "      <td>0.0</td>\n",
       "      <td>0.0</td>\n",
       "      <td>0.0</td>\n",
       "      <td>0.0</td>\n",
       "      <td>0.0</td>\n",
       "      <td>0.0</td>\n",
       "      <td>0.0</td>\n",
       "      <td>0.0</td>\n",
       "    </tr>\n",
       "    <tr>\n",
       "      <th>63</th>\n",
       "      <td>2015</td>\n",
       "      <td>4</td>\n",
       "      <td>4</td>\n",
       "      <td>Kristaps Porzingis\\porzikr01</td>\n",
       "      <td>porzikr01</td>\n",
       "      <td>2.0</td>\n",
       "      <td>138.0</td>\n",
       "      <td>4211.0</td>\n",
       "      <td>2224.0</td>\n",
       "      <td>1001.0</td>\n",
       "      <td>...</td>\n",
       "      <td>0.0</td>\n",
       "      <td>0.0</td>\n",
       "      <td>0.0</td>\n",
       "      <td>0.0</td>\n",
       "      <td>0.0</td>\n",
       "      <td>0.0</td>\n",
       "      <td>0.0</td>\n",
       "      <td>0.0</td>\n",
       "      <td>0.0</td>\n",
       "      <td>0.0</td>\n",
       "    </tr>\n",
       "    <tr>\n",
       "      <th>64</th>\n",
       "      <td>2015</td>\n",
       "      <td>5</td>\n",
       "      <td>5</td>\n",
       "      <td>Mario Hezonja\\hezonma01</td>\n",
       "      <td>hezonma01</td>\n",
       "      <td>2.0</td>\n",
       "      <td>144.0</td>\n",
       "      <td>2373.0</td>\n",
       "      <td>795.0</td>\n",
       "      <td>322.0</td>\n",
       "      <td>...</td>\n",
       "      <td>0.0</td>\n",
       "      <td>0.0</td>\n",
       "      <td>0.0</td>\n",
       "      <td>0.0</td>\n",
       "      <td>0.0</td>\n",
       "      <td>0.0</td>\n",
       "      <td>0.0</td>\n",
       "      <td>0.0</td>\n",
       "      <td>0.0</td>\n",
       "      <td>0.0</td>\n",
       "    </tr>\n",
       "  </tbody>\n",
       "</table>\n",
       "<p>5 rows × 361 columns</p>\n",
       "</div>"
      ],
      "text/plain": [
       "    Year  Rk  Pk                Round 1 Player  Player ID  Yrs  Totals G  \\\n",
       "5   2016   6   6         Buddy Hield\\hieldbu01  hieldbu01  1.0      82.0   \n",
       "61  2015   2   2    D'Angelo Russell\\russeda01  russeda01  2.0     143.0   \n",
       "62  2015   3   3       Jahlil Okafor\\okafoja01  okafoja01  2.0     103.0   \n",
       "63  2015   4   4  Kristaps Porzingis\\porzikr01  porzikr01  2.0     138.0   \n",
       "64  2015   5   5       Mario Hezonja\\hezonma01  hezonma01  2.0     144.0   \n",
       "\n",
       "    Totals MP  Totals PTS  Totals TRB ...   PHO  POR  SAC  SAS  SEA  TOR  UTA  \\\n",
       "5      1888.0       866.0       269.0 ...   0.0  0.0  0.0  0.0  0.0  0.0  0.0   \n",
       "61     4070.0      2038.0       496.0 ...   0.0  0.0  0.0  0.0  0.0  0.0  0.0   \n",
       "62     2725.0      1518.0       613.0 ...   0.0  0.0  0.0  0.0  0.0  0.0  0.0   \n",
       "63     4211.0      2224.0      1001.0 ...   0.0  0.0  0.0  0.0  0.0  0.0  0.0   \n",
       "64     2373.0       795.0       322.0 ...   0.0  0.0  0.0  0.0  0.0  0.0  0.0   \n",
       "\n",
       "    VAN  WAS  WSB  \n",
       "5   0.0  0.0  0.0  \n",
       "61  0.0  0.0  0.0  \n",
       "62  0.0  0.0  0.0  \n",
       "63  0.0  0.0  0.0  \n",
       "64  0.0  0.0  0.0  \n",
       "\n",
       "[5 rows x 361 columns]"
      ]
     },
     "execution_count": 180,
     "metadata": {},
     "output_type": "execute_result"
    }
   ],
   "source": [
    "train.head()"
   ]
  },
  {
   "cell_type": "code",
   "execution_count": 182,
   "metadata": {
    "collapsed": false
   },
   "outputs": [],
   "source": [
    "column_list = list(range(train.shape[1]))\n",
    "column_list.remove(3)\n",
    "column_list.remove(4)\n",
    "column_list.remove(22)\n",
    "column_list.remove(23)\n",
    "cols = train.columns[column_list]\n",
    "train_input = train[cols]\n",
    "column_list = list(range(test.shape[1]))\n",
    "column_list.remove(3)\n",
    "column_list.remove(4)\n",
    "column_list.remove(22)\n",
    "column_list.remove(23)\n",
    "cols = test.columns[column_list]\n",
    "test_input = test[cols]"
   ]
  },
  {
   "cell_type": "code",
   "execution_count": 55,
   "metadata": {
    "collapsed": false
   },
   "outputs": [],
   "source": [
    "fill_NaN = Imputer(missing_values=np.nan, strategy='mean', axis=1)\n",
    "train_imputed = pd.DataFrame(fill_NaN.fit_transform(train_input))\n",
    "train_imputed.columns = train_input.columns\n",
    "train_imputed.index = train_input.index\n",
    "\n",
    "fill_NaN = Imputer(missing_values=np.nan, strategy='mean', axis=1)\n",
    "test_imputed = pd.DataFrame(fill_NaN.fit_transform(test_input))\n",
    "test_imputed.columns = test_input.columns\n",
    "test_imputed.index = test_input.index\n"
   ]
  },
  {
   "cell_type": "code",
   "execution_count": 56,
   "metadata": {
    "collapsed": false
   },
   "outputs": [
    {
     "data": {
      "text/plain": [
       "RandomForestRegressor(bootstrap=True, criterion='mse', max_depth=None,\n",
       "           max_features='auto', max_leaf_nodes=None,\n",
       "           min_impurity_split=1e-07, min_samples_leaf=1,\n",
       "           min_samples_split=2, min_weight_fraction_leaf=0.0,\n",
       "           n_estimators=20, n_jobs=1, oob_score=False, random_state=None,\n",
       "           verbose=0, warm_start=False)"
      ]
     },
     "execution_count": 56,
     "metadata": {},
     "output_type": "execute_result"
    }
   ],
   "source": [
    "rf = RandomForestRegressor(n_estimators=20)\n",
    "rf.fit(train_imputed, train['NBA VORP'])"
   ]
  },
  {
   "cell_type": "code",
   "execution_count": 57,
   "metadata": {
    "collapsed": false
   },
   "outputs": [],
   "source": [
    "r2 = r2_score(test['NBA VORP'], rf.predict(test_imputed[cols]))\n",
    "mse = np.mean((test['NBA VORP'] - rf.predict(test_imputed[cols]))**2)"
   ]
  },
  {
   "cell_type": "code",
   "execution_count": 58,
   "metadata": {
    "collapsed": false
   },
   "outputs": [
    {
     "name": "stdout",
     "output_type": "stream",
     "text": [
      "0.991816971319\n",
      "0.490604906542\n"
     ]
    }
   ],
   "source": [
    "print(r2)\n",
    "print(mse)"
   ]
  },
  {
   "cell_type": "code",
   "execution_count": 59,
   "metadata": {
    "collapsed": false
   },
   "outputs": [],
   "source": [
    "def queryYear(df, year):\n",
    "    df_filtered = df[df['Year'] == year]\n",
    "    return df_filtered\n",
    "\n",
    "def preProcessing(df):\n",
    "#     df_filtered = df.dropna()\n",
    "#     one_hot_college = pd.get_dummies(df_filtered['Round 1 College'])\n",
    "#     one_hot_college = one_hot_college.apply(pd.to_numeric, errors='ignore')\n",
    "#     one_hot_team = pd.get_dummies(df_filtered['Tm'])\n",
    "#     one_hot_team = one_hot_team.apply(pd.to_numeric, errors='ignore')\n",
    "#     df_filtered = df_filtered.drop('Round 1 College', axis = 1)\n",
    "#     df_filtered = df_filtered.drop('Tm', axis = 1)\n",
    "#     df_filtered = df_filtered.join(one_hot_college)\n",
    "#     df_filtered = df_filtered.join(one_hot_team)\n",
    "#     drop_index = []\n",
    "#    for i in range(0,len(df)):\n",
    "#        if math.isnan(df_filtered['NBA VORP'][i]) or math.isnan(df_filtered['NBA VORP Count'][i]):\n",
    "#            drop_index.append(i)    \n",
    "#   df_filtered = df_filtered.drop(df_filtered.index[drop_index])\n",
    "    column_list = list(range(df_filtered.shape[1]))\n",
    "    column_list.remove(3)\n",
    "    column_list.remove(4)\n",
    "    column_list.remove(23)\n",
    "    cols = df_filtered.columns[column_list]\n",
    "    df_input = df_filtered[cols]\n",
    "    fill_NaN = Imputer(missing_values=np.nan, strategy='mean', axis=1)\n",
    "    df_imputed = pd.DataFrame(fill_NaN.fit_transform(df_input))\n",
    "    df_imputed.columns = df_input.columns\n",
    "    df_imputed.index = df_input.index\n",
    "    return df_imputed\n",
    "\n",
    "    \n",
    "def str_column_to_float(dataset, column):\n",
    "\tfor row in dataset:\n",
    "\t\trow[column] = float(row[column].strip())"
   ]
  },
  {
   "cell_type": "code",
   "execution_count": 148,
   "metadata": {
    "collapsed": false
   },
   "outputs": [],
   "source": [
    "df_VORP = df['NBA VORP'].groupby([df['Year']]).mean()"
   ]
  },
  {
   "cell_type": "code",
   "execution_count": 152,
   "metadata": {
    "collapsed": false
   },
   "outputs": [
    {
     "ename": "AttributeError",
     "evalue": "'DataFrame' object has no attribute 'to_frame'",
     "output_type": "error",
     "traceback": [
      "\u001b[0;31m---------------------------------------------------------------------------\u001b[0m",
      "\u001b[0;31mAttributeError\u001b[0m                            Traceback (most recent call last)",
      "\u001b[0;32m<ipython-input-152-921e0d779cbb>\u001b[0m in \u001b[0;36m<module>\u001b[0;34m()\u001b[0m\n\u001b[0;32m----> 1\u001b[0;31m \u001b[0mdf_VORP\u001b[0m \u001b[0;34m=\u001b[0m \u001b[0mdf_VORP\u001b[0m\u001b[0;34m.\u001b[0m\u001b[0mto_frame\u001b[0m\u001b[0;34m(\u001b[0m\u001b[0;34m)\u001b[0m\u001b[0;34m\u001b[0m\u001b[0m\n\u001b[0m",
      "\u001b[0;32m/anaconda/envs/py36/lib/python3.6/site-packages/pandas/core/generic.py\u001b[0m in \u001b[0;36m__getattr__\u001b[0;34m(self, name)\u001b[0m\n\u001b[1;32m   2968\u001b[0m             \u001b[0;32mif\u001b[0m \u001b[0mname\u001b[0m \u001b[0;32min\u001b[0m \u001b[0mself\u001b[0m\u001b[0;34m.\u001b[0m\u001b[0m_info_axis\u001b[0m\u001b[0;34m:\u001b[0m\u001b[0;34m\u001b[0m\u001b[0m\n\u001b[1;32m   2969\u001b[0m                 \u001b[0;32mreturn\u001b[0m \u001b[0mself\u001b[0m\u001b[0;34m[\u001b[0m\u001b[0mname\u001b[0m\u001b[0;34m]\u001b[0m\u001b[0;34m\u001b[0m\u001b[0m\n\u001b[0;32m-> 2970\u001b[0;31m             \u001b[0;32mreturn\u001b[0m \u001b[0mobject\u001b[0m\u001b[0;34m.\u001b[0m\u001b[0m__getattribute__\u001b[0m\u001b[0;34m(\u001b[0m\u001b[0mself\u001b[0m\u001b[0;34m,\u001b[0m \u001b[0mname\u001b[0m\u001b[0;34m)\u001b[0m\u001b[0;34m\u001b[0m\u001b[0m\n\u001b[0m\u001b[1;32m   2971\u001b[0m \u001b[0;34m\u001b[0m\u001b[0m\n\u001b[1;32m   2972\u001b[0m     \u001b[0;32mdef\u001b[0m \u001b[0m__setattr__\u001b[0m\u001b[0;34m(\u001b[0m\u001b[0mself\u001b[0m\u001b[0;34m,\u001b[0m \u001b[0mname\u001b[0m\u001b[0;34m,\u001b[0m \u001b[0mvalue\u001b[0m\u001b[0;34m)\u001b[0m\u001b[0;34m:\u001b[0m\u001b[0;34m\u001b[0m\u001b[0m\n",
      "\u001b[0;31mAttributeError\u001b[0m: 'DataFrame' object has no attribute 'to_frame'"
     ]
    }
   ],
   "source": [
    "df_VORP = df_VORP.to_frame()"
   ]
  },
  {
   "cell_type": "code",
   "execution_count": 153,
   "metadata": {
    "collapsed": false
   },
   "outputs": [
    {
     "name": "stdout",
     "output_type": "stream",
     "text": [
      "      NBA VORP\n",
      "Year          \n",
      "1985  1.678788\n",
      "1986  1.436765\n",
      "1987  4.161818\n",
      "1988  2.163793\n",
      "1989  1.668750\n",
      "1990  1.759615\n",
      "1991  2.122727\n",
      "1992  2.720833\n",
      "1993  2.311628\n",
      "1994  3.977778\n",
      "1995  3.828000\n",
      "1996  3.417021\n",
      "1997  3.791489\n",
      "1998  4.217857\n",
      "1999  2.406522\n",
      "2000  1.696000\n",
      "2001  2.118367\n",
      "2002  1.312500\n",
      "2003  4.859574\n",
      "2004  2.608696\n",
      "2005  2.792727\n",
      "2006  1.444231\n",
      "2007  2.034694\n",
      "2008  2.531373\n",
      "2009  2.786000\n",
      "2010  1.827451\n",
      "2011  1.975926\n",
      "2012  1.180357\n",
      "2013  1.605882\n",
      "2014  0.446154\n",
      "2015  0.373810\n",
      "2016 -0.182222\n"
     ]
    }
   ],
   "source": [
    "print(df_VORP)"
   ]
  },
  {
   "cell_type": "code",
   "execution_count": 160,
   "metadata": {
    "collapsed": false
   },
   "outputs": [],
   "source": [
    "predictions = []\n",
    "for i in range(2010,2017):\n",
    "    df_temp = queryYear(df_query,i)\n",
    "    predictions.append(np.mean(rf.predict(df_temp[cols])))"
   ]
  },
  {
   "cell_type": "code",
   "execution_count": 161,
   "metadata": {
    "collapsed": false
   },
   "outputs": [
    {
     "name": "stdout",
     "output_type": "stream",
     "text": [
      "[1.5503333333333336, 1.7761666666666669, 1.0978333333333334, 1.363, 0.38608333333333333, 0.26083333333333336, -0.14108333333333334]\n"
     ]
    }
   ],
   "source": [
    "print(predictions)"
   ]
  },
  {
   "cell_type": "code",
   "execution_count": 155,
   "metadata": {
    "collapsed": false
   },
   "outputs": [],
   "source": [
    "for i in range(0,3):\n",
    "    df_VORP.iloc[29+i][0] = predictions[i]\n",
    "    "
   ]
  },
  {
   "cell_type": "code",
   "execution_count": 157,
   "metadata": {
    "collapsed": false
   },
   "outputs": [
    {
     "data": {
      "text/html": [
       "<div>\n",
       "<style>\n",
       "    .dataframe thead tr:only-child th {\n",
       "        text-align: right;\n",
       "    }\n",
       "\n",
       "    .dataframe thead th {\n",
       "        text-align: left;\n",
       "    }\n",
       "\n",
       "    .dataframe tbody tr th {\n",
       "        vertical-align: top;\n",
       "    }\n",
       "</style>\n",
       "<table border=\"1\" class=\"dataframe\">\n",
       "  <thead>\n",
       "    <tr style=\"text-align: right;\">\n",
       "      <th></th>\n",
       "      <th>NBA VORP</th>\n",
       "    </tr>\n",
       "    <tr>\n",
       "      <th>Year</th>\n",
       "      <th></th>\n",
       "    </tr>\n",
       "  </thead>\n",
       "  <tbody>\n",
       "    <tr>\n",
       "      <th>2012</th>\n",
       "      <td>1.180357</td>\n",
       "    </tr>\n",
       "    <tr>\n",
       "      <th>2013</th>\n",
       "      <td>1.605882</td>\n",
       "    </tr>\n",
       "    <tr>\n",
       "      <th>2014</th>\n",
       "      <td>0.386083</td>\n",
       "    </tr>\n",
       "    <tr>\n",
       "      <th>2015</th>\n",
       "      <td>0.260833</td>\n",
       "    </tr>\n",
       "    <tr>\n",
       "      <th>2016</th>\n",
       "      <td>-0.141083</td>\n",
       "    </tr>\n",
       "  </tbody>\n",
       "</table>\n",
       "</div>"
      ],
      "text/plain": [
       "      NBA VORP\n",
       "Year          \n",
       "2012  1.180357\n",
       "2013  1.605882\n",
       "2014  0.386083\n",
       "2015  0.260833\n",
       "2016 -0.141083"
      ]
     },
     "execution_count": 157,
     "metadata": {},
     "output_type": "execute_result"
    }
   ],
   "source": [
    "df_VORP.tail()"
   ]
  },
  {
   "cell_type": "code",
   "execution_count": null,
   "metadata": {
    "collapsed": true
   },
   "outputs": [],
   "source": []
  }
 ],
 "metadata": {
  "kernelspec": {
   "display_name": "Python 3",
   "language": "python",
   "name": "python3"
  },
  "language_info": {
   "codemirror_mode": {
    "name": "ipython",
    "version": 3
   },
   "file_extension": ".py",
   "mimetype": "text/x-python",
   "name": "python",
   "nbconvert_exporter": "python",
   "pygments_lexer": "ipython3",
   "version": "3.6.1"
  }
 },
 "nbformat": 4,
 "nbformat_minor": 2
}
