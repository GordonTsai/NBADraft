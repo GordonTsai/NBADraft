{
 "cells": [
  {
   "cell_type": "code",
   "execution_count": 709,
   "metadata": {
    "collapsed": false
   },
   "outputs": [],
   "source": [
    "%matplotlib inline\n",
    "import pprint  \n",
    "import math\n",
    "import numpy as np\n",
    "import numpy.random as npr\n",
    "import pandas as pd\n",
    "import random\n",
    "import warnings\n",
    "import collections as ct\n",
    "from scipy import stats\n",
    "import scipy.stats as st\n",
    "from scipy.stats import norm, rayleigh\n",
    "import seaborn as sns\n",
    "import matplotlib\n",
    "import matplotlib.pyplot as plt\n",
    "from pylab import plot, show,hist,figure,title\n",
    "from sklearn.ensemble import RandomForestRegressor\n",
    "from sklearn.preprocessing import OneHotEncoder\n",
    "from sklearn.preprocessing import Imputer\n",
    "from sklearn.metrics import r2_score\n",
    "from sklearn.cluster import KMeans"
   ]
  },
  {
   "cell_type": "code",
   "execution_count": 711,
   "metadata": {
    "collapsed": false,
    "scrolled": true
   },
   "outputs": [
    {
     "name": "stdout",
     "output_type": "stream",
     "text": [
      "10.6228906792\n",
      "7.40755574692\n",
      "6.04723154605\n",
      "5.89949425393\n",
      "5.74280539637\n",
      "5.64445057269\n",
      "5.50276744767\n",
      "5.29879179519\n",
      "5.11232773315\n",
      "5.04799270827\n",
      "5.15783341945\n",
      "4.82822572244\n",
      "4.96117083474\n",
      "4.57493164856\n",
      "4.61494597735\n",
      "4.54180982402\n",
      "4.78710517265\n",
      "5.04836920604\n",
      "4.42848544718\n",
      "4.84893357801\n",
      "4.82911117049\n",
      "4.78581854792\n",
      "4.90156558712\n",
      "4.5638763932\n",
      "4.59293102958\n",
      "4.66996535302\n",
      "4.48100718286\n",
      "4.57459979021\n",
      "4.47400947739\n",
      "4.56631085784\n",
      "4.37650307921\n",
      "4.45908555744\n",
      "4.3897870229\n",
      "4.2187641742\n",
      "4.3512880867\n",
      "4.4970245871\n",
      "4.22407756456\n",
      "4.33791377422\n",
      "4.26240886568\n",
      "4.57388733533\n",
      "4.50720248224\n",
      "4.15549816985\n",
      "4.28153989765\n",
      "4.12322990628\n",
      "4.01935108965\n",
      "4.38101563894\n",
      "4.42108791214\n",
      "4.20885633034\n",
      "4.09530952585\n",
      "4.14062212717\n",
      "4.2749121187\n",
      "4.23974304791\n",
      "4.1260733516\n",
      "4.05184523889\n",
      "nan\n",
      "3.91007546372\n",
      "nan\n",
      "nan\n",
      "nan\n",
      "nan\n",
      "4.20163505364\n",
      "nan\n",
      "3.95739283818\n",
      "4.22925626711\n",
      "4.64084607908\n",
      "nan\n",
      "nan\n",
      "nan\n",
      "4.22356561603\n",
      "nan\n",
      "nan\n",
      "nan\n",
      "nan\n",
      "nan\n",
      "nan\n",
      "nan\n",
      "nan\n",
      "nan\n",
      "nan\n",
      "nan\n",
      "nan\n",
      "nan\n",
      "nan\n",
      "nan\n",
      "nan\n",
      "3.82965997655\n",
      "nan\n",
      "nan\n",
      "4.13962694613\n",
      "nan\n",
      "nan\n",
      "nan\n",
      "nan\n",
      "nan\n",
      "nan\n",
      "nan\n",
      "nan\n",
      "nan\n"
     ]
    }
   ],
   "source": [
    "#Iteration to find best cluster\n",
    "Std_Iter = []\n",
    "\n",
    "for numClusters in range(2,100):\n",
    "    df = pd.read_csv('NBADraft 1985-2016 Scrape.csv')\n",
    "    df_College = pd.read_csv('NBADraft CollegeData Scrape.csv')\n",
    "    # df_VORP = df[['Player ID','Round 1 College','Tm','NBA VORP']]\n",
    "    df_VORP = df[['Player ID','Round 1 College','Tm','Pk','Year']]\n",
    "\n",
    "    #drop all rows with all NA's\n",
    "    original_len = len(df_College)\n",
    "    drop_list = []\n",
    "    for i in range(0,len(df_College)):\n",
    "        current_row = df_College.iloc[i,:]\n",
    "        if current_row.isnull().sum() > 10:\n",
    "            drop_list.append(i)\n",
    "    df_College = df_College.drop(df_College.index[[drop_list]])        \n",
    "\n",
    "    #Join NBA VORP To College Stats Data table\n",
    "    df_College = df_College.merge(df_VORP,left_on='Player ID', right_on = 'Player ID', how = 'left')\n",
    "    # df_College.join(df_VORP,on='Player ID', how = 'outer', lsuffix = '_College', rsuffix = '_NBA')\n",
    "\n",
    "    #One Hot Encoding Categorical Variables in College and Team\n",
    "    one_hot_college = pd.get_dummies(df_College['Round 1 College'])\n",
    "    one_hot_college = one_hot_college.apply(pd.to_numeric, errors='ignore')\n",
    "    one_hot_team = pd.get_dummies(df_College['Tm'])\n",
    "    one_hot_team = one_hot_team.apply(pd.to_numeric, errors='ignore')\n",
    "    df_College = df_College.drop('Round 1 College', axis = 1)\n",
    "    df_College = df_College.drop('Tm', axis = 1)\n",
    "    df_College = df_College.join(one_hot_college)\n",
    "    df_College = df_College.join(one_hot_team)\n",
    "    df_temp = df_College.iloc[:,2:]\n",
    "    df_College = df_College.drop(df_College.columns[2:],axis = 1)\n",
    "\n",
    "    #Impute NA's\n",
    "    fill_NaN = Imputer(missing_values=np.nan, strategy='mean', axis=1)\n",
    "    df_imputed = pd.DataFrame(fill_NaN.fit_transform(df_temp))\n",
    "    df_imputed.columns = df_temp.columns\n",
    "    df_imputed.index = df_temp.index\n",
    "    df_College = df_College.join(df_imputed)\n",
    "    df_College = df_College.dropna()\n",
    "    Player_ID = df_College['Player ID']\n",
    "    Player_Name = df_College['Player Name']\n",
    "    df_College = df_College.drop(df_College.columns[:2],axis = 1)\n",
    "\n",
    "    #Cluster Analysis\n",
    "    k_means = KMeans(n_clusters=numClusters, random_state= 0)\n",
    "    k_means.fit(df_College)\n",
    "    df_College_Output = df_College\n",
    "\n",
    "    df_College_Output['Cluster Index'] = k_means.fit_predict(df_College)\n",
    "\n",
    "    Distance = []\n",
    "    Distance_arr = k_means.fit_transform(df_College)\n",
    "    for i in range(0,len(Distance_arr)):\n",
    "        Distance.append(min(Distance_arr[i]))\n",
    "    df_College_Output['Distance to CC'] = Distance\n",
    "\n",
    "    df_College['Player ID'] = Player_ID\n",
    "    df_College['Player Name'] = Player_Name\n",
    "    df_VORP = df[['Player ID','NBA VORP']]\n",
    "    df_College = df_College.merge(df_VORP,left_on='Player ID', right_on = 'Player ID', how = 'left')\n",
    "\n",
    "    NBA_Null = []\n",
    "    for i in range(0,len(df_College)):\n",
    "        if df_College['NBA VORP'].isnull()[i] == True:\n",
    "            NBA_Null.append(i)\n",
    "\n",
    "    df_College = df_College.drop(NBA_Null)\n",
    "\n",
    "    df_College.to_csv('NBAModel Output.csv')\n",
    "\n",
    "    output_mean = df_College.groupby(df_College['Cluster Index']).mean()\n",
    "    output_std = df_College.groupby(df_College['Cluster Index']).std()\n",
    "    output_mean.to_csv('Cluster Aggregation Mean.csv')\n",
    "    output_std.to_csv('Cluster Aggregation Std.csv')\n",
    "    output = pd.DataFrame({'Cluster Index': list(range(0,len(output_mean))),'Mean':output_mean['NBA VORP'], 'Std':output_std['NBA VORP']})\n",
    "\n",
    "    Std_Iter.append(sum(output['Std']/(numClusters-1)))\n",
    "    print(sum(output['Std'])/(numClusters-1))"
   ]
  },
  {
   "cell_type": "code",
   "execution_count": null,
   "metadata": {
    "collapsed": false
   },
   "outputs": [],
   "source": []
  },
  {
   "cell_type": "code",
   "execution_count": 729,
   "metadata": {
    "collapsed": false
   },
   "outputs": [
    {
     "data": {
      "text/plain": [
       "3.8296599765481072"
      ]
     },
     "execution_count": 729,
     "metadata": {},
     "output_type": "execute_result"
    }
   ],
   "source": [
    "numClusters = 87\n",
    "\n",
    "df = pd.read_csv('NBADraft 1985-2016 Scrape.csv')\n",
    "df_College = pd.read_csv('NBADraft CollegeData Scrape.csv')\n",
    "# df_VORP = df[['Player ID','Round 1 College','Tm','NBA VORP']]\n",
    "df_VORP = df[['Player ID','Round 1 College','Tm','Pk','Year']]\n",
    "\n",
    "#drop all rows with all NA's\n",
    "original_len = len(df_College)\n",
    "drop_list = []\n",
    "for i in range(0,len(df_College)):\n",
    "    current_row = df_College.iloc[i,:]\n",
    "    if current_row.isnull().sum() > 10:\n",
    "        drop_list.append(i)\n",
    "df_College = df_College.drop(df_College.index[[drop_list]])        \n",
    "\n",
    "#Join NBA VORP To College Stats Data table\n",
    "df_College = df_College.merge(df_VORP,left_on='Player ID', right_on = 'Player ID', how = 'left')\n",
    "# df_College.join(df_VORP,on='Player ID', how = 'outer', lsuffix = '_College', rsuffix = '_NBA')\n",
    "\n",
    "#One Hot Encoding Categorical Variables in College and Team\n",
    "one_hot_college = pd.get_dummies(df_College['Round 1 College'])\n",
    "one_hot_college = one_hot_college.apply(pd.to_numeric, errors='ignore')\n",
    "one_hot_team = pd.get_dummies(df_College['Tm'])\n",
    "one_hot_team = one_hot_team.apply(pd.to_numeric, errors='ignore')\n",
    "df_College = df_College.drop('Round 1 College', axis = 1)\n",
    "df_College = df_College.drop('Tm', axis = 1)\n",
    "df_College = df_College.join(one_hot_college)\n",
    "df_College = df_College.join(one_hot_team)\n",
    "df_temp = df_College.iloc[:,2:]\n",
    "df_College = df_College.drop(df_College.columns[2:],axis = 1)\n",
    "\n",
    "#Impute NA's\n",
    "fill_NaN = Imputer(missing_values=np.nan, strategy='mean', axis=1)\n",
    "df_imputed = pd.DataFrame(fill_NaN.fit_transform(df_temp))\n",
    "df_imputed.columns = df_temp.columns\n",
    "df_imputed.index = df_temp.index\n",
    "df_College = df_College.join(df_imputed)\n",
    "df_College = df_College.dropna()\n",
    "Player_ID = df_College['Player ID']\n",
    "Player_Name = df_College['Player Name']\n",
    "df_College = df_College.drop(df_College.columns[:2],axis = 1)\n",
    "\n",
    "#Cluster Analysis\n",
    "k_means = KMeans(n_clusters=numClusters, random_state= 0)\n",
    "k_means.fit(df_College)\n",
    "df_College_Output = df_College\n",
    "\n",
    "df_College_Output['Cluster Index'] = k_means.fit_predict(df_College)\n",
    "\n",
    "Distance = []\n",
    "Distance_arr = k_means.fit_transform(df_College)\n",
    "for i in range(0,len(Distance_arr)):\n",
    "    Distance.append(min(Distance_arr[i]))\n",
    "df_College_Output['Distance to CC'] = Distance\n",
    "\n",
    "df_College['Player ID'] = Player_ID\n",
    "df_College['Player Name'] = Player_Name\n",
    "df_VORP = df[['Player ID','NBA VORP']]\n",
    "df_College = df_College.merge(df_VORP,left_on='Player ID', right_on = 'Player ID', how = 'left')\n",
    "\n",
    "NBA_Null = []\n",
    "for i in range(0,len(df_College)):\n",
    "    if df_College['NBA VORP'].isnull()[i] == True:\n",
    "        NBA_Null.append(i)\n",
    "\n",
    "df_College = df_College.drop(NBA_Null)\n",
    "\n",
    "df_College.to_csv('NBAModel Output.csv')\n",
    "\n",
    "output_mean = df_College.groupby(df_College['Cluster Index']).mean()\n",
    "output_std = df_College.groupby(df_College['Cluster Index']).std()\n",
    "output_mean.to_csv('Cluster Aggregation Mean.csv')\n",
    "output_std.to_csv('Cluster Aggregation Std.csv')\n",
    "output = pd.DataFrame({'Cluster Index': list(range(0,len(output_mean))),'Mean':output_mean['NBA VORP'], 'Std':output_std['NBA VORP']})\n",
    "\n",
    "output.to_csv('Cluster Aggregation.csv')\n",
    "sum(output['Std'])/(numClusters-1)"
   ]
  },
  {
   "cell_type": "code",
   "execution_count": null,
   "metadata": {
    "collapsed": true
   },
   "outputs": [],
   "source": []
  },
  {
   "cell_type": "code",
   "execution_count": null,
   "metadata": {
    "collapsed": true
   },
   "outputs": [],
   "source": []
  },
  {
   "cell_type": "code",
   "execution_count": null,
   "metadata": {
    "collapsed": true
   },
   "outputs": [],
   "source": []
  },
  {
   "cell_type": "code",
   "execution_count": 11,
   "metadata": {
    "collapsed": true
   },
   "outputs": [],
   "source": [
    "#Calculate VORP grouped by Pick #\n",
    "VORP_Per_Pick_Mean = df['NBA VORP'].groupby([df['Pk']]).mean()\n",
    "VORP_Per_Pick_High = df['NBA VORP'].groupby([df['Pk']]).max()\n",
    "d = {'VORP Per Pick High': VORP_Per_Pick_High[0:60],'VORP Per Pick Mean': VORP_Per_Pick_Mean[0:60]}\n",
    "VORP_Per_Pick = pd.DataFrame(data = d)\n",
    "print(VORP_Per_Pick)"
   ]
  },
  {
   "cell_type": "code",
   "execution_count": 4,
   "metadata": {
    "collapsed": false
   },
   "outputs": [],
   "source": [
    "df_filtered = df\n",
    "#enc = OneHotEncoder\n",
    "#df_train['NBA VORP'] = pd.to_numeric(df_train['NBA VORP'], errors='coerce')\n",
    "one_hot_college = pd.get_dummies(df_filtered['Round 1 College'])\n",
    "one_hot_college = one_hot_college.apply(pd.to_numeric, errors='ignore')\n",
    "one_hot_team = pd.get_dummies(df_filtered['Tm'])\n",
    "one_hot_team = one_hot_team.apply(pd.to_numeric, errors='ignore')\n",
    "df_filtered = df_filtered.drop('Round 1 College', axis = 1)\n",
    "df_filtered = df_filtered.drop('Tm', axis = 1)\n",
    "df_filtered = df_filtered.join(one_hot_college)\n",
    "df_filtered = df_filtered.join(one_hot_team)\n",
    "df_temp = df_filtered.iloc[:,5:]\n",
    "df_filtered = df_filtered.drop(df_filtered.columns[5:],axis = 1)"
   ]
  },
  {
   "cell_type": "code",
   "execution_count": 5,
   "metadata": {
    "collapsed": false
   },
   "outputs": [
    {
     "data": {
      "text/html": [
       "<div>\n",
       "<style>\n",
       "    .dataframe thead tr:only-child th {\n",
       "        text-align: right;\n",
       "    }\n",
       "\n",
       "    .dataframe thead th {\n",
       "        text-align: left;\n",
       "    }\n",
       "\n",
       "    .dataframe tbody tr th {\n",
       "        vertical-align: top;\n",
       "    }\n",
       "</style>\n",
       "<table border=\"1\" class=\"dataframe\">\n",
       "  <thead>\n",
       "    <tr style=\"text-align: right;\">\n",
       "      <th></th>\n",
       "      <th>Year</th>\n",
       "      <th>Rk</th>\n",
       "      <th>Pk</th>\n",
       "      <th>Round 1 Player</th>\n",
       "      <th>Player ID</th>\n",
       "    </tr>\n",
       "  </thead>\n",
       "  <tbody>\n",
       "    <tr>\n",
       "      <th>0</th>\n",
       "      <td>2016</td>\n",
       "      <td>1</td>\n",
       "      <td>1</td>\n",
       "      <td>Ben Simmons\\simmobe01</td>\n",
       "      <td>simmobe01</td>\n",
       "    </tr>\n",
       "    <tr>\n",
       "      <th>1</th>\n",
       "      <td>2016</td>\n",
       "      <td>2</td>\n",
       "      <td>2</td>\n",
       "      <td>Brandon Ingram\\ingrabr01</td>\n",
       "      <td>ingrabr01</td>\n",
       "    </tr>\n",
       "    <tr>\n",
       "      <th>2</th>\n",
       "      <td>2016</td>\n",
       "      <td>3</td>\n",
       "      <td>3</td>\n",
       "      <td>Jaylen Brown\\brownja02</td>\n",
       "      <td>brownja02</td>\n",
       "    </tr>\n",
       "    <tr>\n",
       "      <th>3</th>\n",
       "      <td>2016</td>\n",
       "      <td>4</td>\n",
       "      <td>4</td>\n",
       "      <td>Dragan Bender\\bendedr01</td>\n",
       "      <td>bendedr01</td>\n",
       "    </tr>\n",
       "    <tr>\n",
       "      <th>4</th>\n",
       "      <td>2016</td>\n",
       "      <td>5</td>\n",
       "      <td>5</td>\n",
       "      <td>Kris Dunn\\dunnkr01</td>\n",
       "      <td>dunnkr01</td>\n",
       "    </tr>\n",
       "  </tbody>\n",
       "</table>\n",
       "</div>"
      ],
      "text/plain": [
       "   Year  Rk  Pk            Round 1 Player  Player ID\n",
       "0  2016   1   1     Ben Simmons\\simmobe01  simmobe01\n",
       "1  2016   2   2  Brandon Ingram\\ingrabr01  ingrabr01\n",
       "2  2016   3   3    Jaylen Brown\\brownja02  brownja02\n",
       "3  2016   4   4   Dragan Bender\\bendedr01  bendedr01\n",
       "4  2016   5   5        Kris Dunn\\dunnkr01   dunnkr01"
      ]
     },
     "execution_count": 5,
     "metadata": {},
     "output_type": "execute_result"
    }
   ],
   "source": [
    "df_filtered.head()\n"
   ]
  },
  {
   "cell_type": "code",
   "execution_count": 178,
   "metadata": {
    "collapsed": false
   },
   "outputs": [],
   "source": [
    "fill_NaN = Imputer(missing_values=np.nan, strategy='mean', axis=1)\n",
    "df_imputed = pd.DataFrame(fill_NaN.fit_transform(df_temp))\n",
    "df_imputed.columns = df_temp.columns\n",
    "df_imputed.index = df_temp.index\n",
    "df_filtered = df_filtered.join(df_imputed)\n",
    "df_filtered.dropna()\n",
    "df_query = df_filtered"
   ]
  },
  {
   "cell_type": "code",
   "execution_count": 179,
   "metadata": {
    "collapsed": false
   },
   "outputs": [],
   "source": [
    "drop_index = []\n",
    "for i in range(0,len(df)):\n",
    "    if math.isnan(df_filtered['NBA VORP'][i]) or math.isnan(df_filtered['NBA VORP Count'][i]) or df_filtered['NBA VORP Count'][i] < 3.0:\n",
    "        drop_index.append(i)\n",
    "        \n",
    "df_filtered = df_filtered.drop(df_filtered.index[drop_index])\n",
    "df_filtered['is_train'] = np.random.uniform(0, 1, len(df_filtered)) <= .75\n",
    "train, test = df_filtered[df_filtered['is_train']==True], df_filtered[df_filtered['is_train']==False]\n",
    "train = train.drop('is_train',axis = 1)\n",
    "test = test.drop('is_train', axis = 1)\n",
    "                                                                                             "
   ]
  },
  {
   "cell_type": "code",
   "execution_count": 180,
   "metadata": {
    "collapsed": false
   },
   "outputs": [
    {
     "data": {
      "text/html": [
       "<div>\n",
       "<style>\n",
       "    .dataframe thead tr:only-child th {\n",
       "        text-align: right;\n",
       "    }\n",
       "\n",
       "    .dataframe thead th {\n",
       "        text-align: left;\n",
       "    }\n",
       "\n",
       "    .dataframe tbody tr th {\n",
       "        vertical-align: top;\n",
       "    }\n",
       "</style>\n",
       "<table border=\"1\" class=\"dataframe\">\n",
       "  <thead>\n",
       "    <tr style=\"text-align: right;\">\n",
       "      <th></th>\n",
       "      <th>Year</th>\n",
       "      <th>Rk</th>\n",
       "      <th>Pk</th>\n",
       "      <th>Round 1 Player</th>\n",
       "      <th>Player ID</th>\n",
       "      <th>Yrs</th>\n",
       "      <th>Totals G</th>\n",
       "      <th>Totals MP</th>\n",
       "      <th>Totals PTS</th>\n",
       "      <th>Totals TRB</th>\n",
       "      <th>...</th>\n",
       "      <th>PHO</th>\n",
       "      <th>POR</th>\n",
       "      <th>SAC</th>\n",
       "      <th>SAS</th>\n",
       "      <th>SEA</th>\n",
       "      <th>TOR</th>\n",
       "      <th>UTA</th>\n",
       "      <th>VAN</th>\n",
       "      <th>WAS</th>\n",
       "      <th>WSB</th>\n",
       "    </tr>\n",
       "  </thead>\n",
       "  <tbody>\n",
       "    <tr>\n",
       "      <th>5</th>\n",
       "      <td>2016</td>\n",
       "      <td>6</td>\n",
       "      <td>6</td>\n",
       "      <td>Buddy Hield\\hieldbu01</td>\n",
       "      <td>hieldbu01</td>\n",
       "      <td>1.0</td>\n",
       "      <td>82.0</td>\n",
       "      <td>1888.0</td>\n",
       "      <td>866.0</td>\n",
       "      <td>269.0</td>\n",
       "      <td>...</td>\n",
       "      <td>0.0</td>\n",
       "      <td>0.0</td>\n",
       "      <td>0.0</td>\n",
       "      <td>0.0</td>\n",
       "      <td>0.0</td>\n",
       "      <td>0.0</td>\n",
       "      <td>0.0</td>\n",
       "      <td>0.0</td>\n",
       "      <td>0.0</td>\n",
       "      <td>0.0</td>\n",
       "    </tr>\n",
       "    <tr>\n",
       "      <th>61</th>\n",
       "      <td>2015</td>\n",
       "      <td>2</td>\n",
       "      <td>2</td>\n",
       "      <td>D'Angelo Russell\\russeda01</td>\n",
       "      <td>russeda01</td>\n",
       "      <td>2.0</td>\n",
       "      <td>143.0</td>\n",
       "      <td>4070.0</td>\n",
       "      <td>2038.0</td>\n",
       "      <td>496.0</td>\n",
       "      <td>...</td>\n",
       "      <td>0.0</td>\n",
       "      <td>0.0</td>\n",
       "      <td>0.0</td>\n",
       "      <td>0.0</td>\n",
       "      <td>0.0</td>\n",
       "      <td>0.0</td>\n",
       "      <td>0.0</td>\n",
       "      <td>0.0</td>\n",
       "      <td>0.0</td>\n",
       "      <td>0.0</td>\n",
       "    </tr>\n",
       "    <tr>\n",
       "      <th>62</th>\n",
       "      <td>2015</td>\n",
       "      <td>3</td>\n",
       "      <td>3</td>\n",
       "      <td>Jahlil Okafor\\okafoja01</td>\n",
       "      <td>okafoja01</td>\n",
       "      <td>2.0</td>\n",
       "      <td>103.0</td>\n",
       "      <td>2725.0</td>\n",
       "      <td>1518.0</td>\n",
       "      <td>613.0</td>\n",
       "      <td>...</td>\n",
       "      <td>0.0</td>\n",
       "      <td>0.0</td>\n",
       "      <td>0.0</td>\n",
       "      <td>0.0</td>\n",
       "      <td>0.0</td>\n",
       "      <td>0.0</td>\n",
       "      <td>0.0</td>\n",
       "      <td>0.0</td>\n",
       "      <td>0.0</td>\n",
       "      <td>0.0</td>\n",
       "    </tr>\n",
       "    <tr>\n",
       "      <th>63</th>\n",
       "      <td>2015</td>\n",
       "      <td>4</td>\n",
       "      <td>4</td>\n",
       "      <td>Kristaps Porzingis\\porzikr01</td>\n",
       "      <td>porzikr01</td>\n",
       "      <td>2.0</td>\n",
       "      <td>138.0</td>\n",
       "      <td>4211.0</td>\n",
       "      <td>2224.0</td>\n",
       "      <td>1001.0</td>\n",
       "      <td>...</td>\n",
       "      <td>0.0</td>\n",
       "      <td>0.0</td>\n",
       "      <td>0.0</td>\n",
       "      <td>0.0</td>\n",
       "      <td>0.0</td>\n",
       "      <td>0.0</td>\n",
       "      <td>0.0</td>\n",
       "      <td>0.0</td>\n",
       "      <td>0.0</td>\n",
       "      <td>0.0</td>\n",
       "    </tr>\n",
       "    <tr>\n",
       "      <th>64</th>\n",
       "      <td>2015</td>\n",
       "      <td>5</td>\n",
       "      <td>5</td>\n",
       "      <td>Mario Hezonja\\hezonma01</td>\n",
       "      <td>hezonma01</td>\n",
       "      <td>2.0</td>\n",
       "      <td>144.0</td>\n",
       "      <td>2373.0</td>\n",
       "      <td>795.0</td>\n",
       "      <td>322.0</td>\n",
       "      <td>...</td>\n",
       "      <td>0.0</td>\n",
       "      <td>0.0</td>\n",
       "      <td>0.0</td>\n",
       "      <td>0.0</td>\n",
       "      <td>0.0</td>\n",
       "      <td>0.0</td>\n",
       "      <td>0.0</td>\n",
       "      <td>0.0</td>\n",
       "      <td>0.0</td>\n",
       "      <td>0.0</td>\n",
       "    </tr>\n",
       "  </tbody>\n",
       "</table>\n",
       "<p>5 rows × 361 columns</p>\n",
       "</div>"
      ],
      "text/plain": [
       "    Year  Rk  Pk                Round 1 Player  Player ID  Yrs  Totals G  \\\n",
       "5   2016   6   6         Buddy Hield\\hieldbu01  hieldbu01  1.0      82.0   \n",
       "61  2015   2   2    D'Angelo Russell\\russeda01  russeda01  2.0     143.0   \n",
       "62  2015   3   3       Jahlil Okafor\\okafoja01  okafoja01  2.0     103.0   \n",
       "63  2015   4   4  Kristaps Porzingis\\porzikr01  porzikr01  2.0     138.0   \n",
       "64  2015   5   5       Mario Hezonja\\hezonma01  hezonma01  2.0     144.0   \n",
       "\n",
       "    Totals MP  Totals PTS  Totals TRB ...   PHO  POR  SAC  SAS  SEA  TOR  UTA  \\\n",
       "5      1888.0       866.0       269.0 ...   0.0  0.0  0.0  0.0  0.0  0.0  0.0   \n",
       "61     4070.0      2038.0       496.0 ...   0.0  0.0  0.0  0.0  0.0  0.0  0.0   \n",
       "62     2725.0      1518.0       613.0 ...   0.0  0.0  0.0  0.0  0.0  0.0  0.0   \n",
       "63     4211.0      2224.0      1001.0 ...   0.0  0.0  0.0  0.0  0.0  0.0  0.0   \n",
       "64     2373.0       795.0       322.0 ...   0.0  0.0  0.0  0.0  0.0  0.0  0.0   \n",
       "\n",
       "    VAN  WAS  WSB  \n",
       "5   0.0  0.0  0.0  \n",
       "61  0.0  0.0  0.0  \n",
       "62  0.0  0.0  0.0  \n",
       "63  0.0  0.0  0.0  \n",
       "64  0.0  0.0  0.0  \n",
       "\n",
       "[5 rows x 361 columns]"
      ]
     },
     "execution_count": 180,
     "metadata": {},
     "output_type": "execute_result"
    }
   ],
   "source": [
    "# train.head()"
   ]
  },
  {
   "cell_type": "code",
   "execution_count": 182,
   "metadata": {
    "collapsed": false
   },
   "outputs": [],
   "source": [
    "column_list = list(range(train.shape[1]))\n",
    "column_list.remove(3)\n",
    "column_list.remove(4)\n",
    "column_list.remove(22)\n",
    "column_list.remove(23)\n",
    "cols = train.columns[column_list]\n",
    "train_input = train[cols]\n",
    "column_list = list(range(test.shape[1]))\n",
    "column_list.remove(3)\n",
    "column_list.remove(4)\n",
    "column_list.remove(22)\n",
    "column_list.remove(23)\n",
    "cols = test.columns[column_list]\n",
    "test_input = test[cols]"
   ]
  },
  {
   "cell_type": "code",
   "execution_count": 55,
   "metadata": {
    "collapsed": false
   },
   "outputs": [],
   "source": [
    "fill_NaN = Imputer(missing_values=np.nan, strategy='mean', axis=1)\n",
    "train_imputed = pd.DataFrame(fill_NaN.fit_transform(train_input))\n",
    "train_imputed.columns = train_input.columns\n",
    "train_imputed.index = train_input.index\n",
    "\n",
    "fill_NaN = Imputer(missing_values=np.nan, strategy='mean', axis=1)\n",
    "test_imputed = pd.DataFrame(fill_NaN.fit_transform(test_input))\n",
    "test_imputed.columns = test_input.columns\n",
    "test_imputed.index = test_input.index\n"
   ]
  },
  {
   "cell_type": "code",
   "execution_count": 56,
   "metadata": {
    "collapsed": false
   },
   "outputs": [
    {
     "data": {
      "text/plain": [
       "RandomForestRegressor(bootstrap=True, criterion='mse', max_depth=None,\n",
       "           max_features='auto', max_leaf_nodes=None,\n",
       "           min_impurity_split=1e-07, min_samples_leaf=1,\n",
       "           min_samples_split=2, min_weight_fraction_leaf=0.0,\n",
       "           n_estimators=20, n_jobs=1, oob_score=False, random_state=None,\n",
       "           verbose=0, warm_start=False)"
      ]
     },
     "execution_count": 56,
     "metadata": {},
     "output_type": "execute_result"
    }
   ],
   "source": [
    "rf = RandomForestRegressor(n_estimators=20)\n",
    "rf.fit(train_imputed, train['NBA VORP'])"
   ]
  },
  {
   "cell_type": "code",
   "execution_count": 57,
   "metadata": {
    "collapsed": false
   },
   "outputs": [],
   "source": [
    "r2 = r2_score(test['NBA VORP'], rf.predict(test_imputed[cols]))\n",
    "mse = np.mean((test['NBA VORP'] - rf.predict(test_imputed[cols]))**2)"
   ]
  },
  {
   "cell_type": "code",
   "execution_count": 58,
   "metadata": {
    "collapsed": false
   },
   "outputs": [
    {
     "name": "stdout",
     "output_type": "stream",
     "text": [
      "0.991816971319\n",
      "0.490604906542\n"
     ]
    }
   ],
   "source": [
    "print(r2)\n",
    "print(mse)"
   ]
  },
  {
   "cell_type": "code",
   "execution_count": 59,
   "metadata": {
    "collapsed": false
   },
   "outputs": [],
   "source": [
    "def queryYear(df, year):\n",
    "    df_filtered = df[df['Year'] == year]\n",
    "    return df_filtered\n",
    "\n",
    "def preProcessing(df):\n",
    "#     df_filtered = df.dropna()\n",
    "#     one_hot_college = pd.get_dummies(df_filtered['Round 1 College'])\n",
    "#     one_hot_college = one_hot_college.apply(pd.to_numeric, errors='ignore')\n",
    "#     one_hot_team = pd.get_dummies(df_filtered['Tm'])\n",
    "#     one_hot_team = one_hot_team.apply(pd.to_numeric, errors='ignore')\n",
    "#     df_filtered = df_filtered.drop('Round 1 College', axis = 1)\n",
    "#     df_filtered = df_filtered.drop('Tm', axis = 1)\n",
    "#     df_filtered = df_filtered.join(one_hot_college)\n",
    "#     df_filtered = df_filtered.join(one_hot_team)\n",
    "#     drop_index = []\n",
    "#    for i in range(0,len(df)):\n",
    "#        if math.isnan(df_filtered['NBA VORP'][i]) or math.isnan(df_filtered['NBA VORP Count'][i]):\n",
    "#            drop_index.append(i)    \n",
    "#   df_filtered = df_filtered.drop(df_filtered.index[drop_index])\n",
    "    column_list = list(range(df_filtered.shape[1]))\n",
    "    column_list.remove(3)\n",
    "    column_list.remove(4)\n",
    "    column_list.remove(23)\n",
    "    cols = df_filtered.columns[column_list]\n",
    "    df_input = df_filtered[cols]\n",
    "    fill_NaN = Imputer(missing_values=np.nan, strategy='mean', axis=1)\n",
    "    df_imputed = pd.DataFrame(fill_NaN.fit_transform(df_input))\n",
    "    df_imputed.columns = df_input.columns\n",
    "    df_imputed.index = df_input.index\n",
    "    return df_imputed\n",
    "\n",
    "    \n",
    "def str_column_to_float(dataset, column):\n",
    "\tfor row in dataset:\n",
    "\t\trow[column] = float(row[column].strip())"
   ]
  },
  {
   "cell_type": "code",
   "execution_count": 148,
   "metadata": {
    "collapsed": false
   },
   "outputs": [],
   "source": [
    "df_VORP = df['NBA VORP'].groupby([df['Year']]).mean()"
   ]
  },
  {
   "cell_type": "code",
   "execution_count": 152,
   "metadata": {
    "collapsed": false
   },
   "outputs": [
    {
     "ename": "AttributeError",
     "evalue": "'DataFrame' object has no attribute 'to_frame'",
     "output_type": "error",
     "traceback": [
      "\u001b[0;31m---------------------------------------------------------------------------\u001b[0m",
      "\u001b[0;31mAttributeError\u001b[0m                            Traceback (most recent call last)",
      "\u001b[0;32m<ipython-input-152-921e0d779cbb>\u001b[0m in \u001b[0;36m<module>\u001b[0;34m()\u001b[0m\n\u001b[0;32m----> 1\u001b[0;31m \u001b[0mdf_VORP\u001b[0m \u001b[0;34m=\u001b[0m \u001b[0mdf_VORP\u001b[0m\u001b[0;34m.\u001b[0m\u001b[0mto_frame\u001b[0m\u001b[0;34m(\u001b[0m\u001b[0;34m)\u001b[0m\u001b[0;34m\u001b[0m\u001b[0m\n\u001b[0m",
      "\u001b[0;32m/anaconda/envs/py36/lib/python3.6/site-packages/pandas/core/generic.py\u001b[0m in \u001b[0;36m__getattr__\u001b[0;34m(self, name)\u001b[0m\n\u001b[1;32m   2968\u001b[0m             \u001b[0;32mif\u001b[0m \u001b[0mname\u001b[0m \u001b[0;32min\u001b[0m \u001b[0mself\u001b[0m\u001b[0;34m.\u001b[0m\u001b[0m_info_axis\u001b[0m\u001b[0;34m:\u001b[0m\u001b[0;34m\u001b[0m\u001b[0m\n\u001b[1;32m   2969\u001b[0m                 \u001b[0;32mreturn\u001b[0m \u001b[0mself\u001b[0m\u001b[0;34m[\u001b[0m\u001b[0mname\u001b[0m\u001b[0;34m]\u001b[0m\u001b[0;34m\u001b[0m\u001b[0m\n\u001b[0;32m-> 2970\u001b[0;31m             \u001b[0;32mreturn\u001b[0m \u001b[0mobject\u001b[0m\u001b[0;34m.\u001b[0m\u001b[0m__getattribute__\u001b[0m\u001b[0;34m(\u001b[0m\u001b[0mself\u001b[0m\u001b[0;34m,\u001b[0m \u001b[0mname\u001b[0m\u001b[0;34m)\u001b[0m\u001b[0;34m\u001b[0m\u001b[0m\n\u001b[0m\u001b[1;32m   2971\u001b[0m \u001b[0;34m\u001b[0m\u001b[0m\n\u001b[1;32m   2972\u001b[0m     \u001b[0;32mdef\u001b[0m \u001b[0m__setattr__\u001b[0m\u001b[0;34m(\u001b[0m\u001b[0mself\u001b[0m\u001b[0;34m,\u001b[0m \u001b[0mname\u001b[0m\u001b[0;34m,\u001b[0m \u001b[0mvalue\u001b[0m\u001b[0;34m)\u001b[0m\u001b[0;34m:\u001b[0m\u001b[0;34m\u001b[0m\u001b[0m\n",
      "\u001b[0;31mAttributeError\u001b[0m: 'DataFrame' object has no attribute 'to_frame'"
     ]
    }
   ],
   "source": [
    "df_VORP = df_VORP.to_frame()"
   ]
  },
  {
   "cell_type": "code",
   "execution_count": 153,
   "metadata": {
    "collapsed": false
   },
   "outputs": [
    {
     "name": "stdout",
     "output_type": "stream",
     "text": [
      "      NBA VORP\n",
      "Year          \n",
      "1985  1.678788\n",
      "1986  1.436765\n",
      "1987  4.161818\n",
      "1988  2.163793\n",
      "1989  1.668750\n",
      "1990  1.759615\n",
      "1991  2.122727\n",
      "1992  2.720833\n",
      "1993  2.311628\n",
      "1994  3.977778\n",
      "1995  3.828000\n",
      "1996  3.417021\n",
      "1997  3.791489\n",
      "1998  4.217857\n",
      "1999  2.406522\n",
      "2000  1.696000\n",
      "2001  2.118367\n",
      "2002  1.312500\n",
      "2003  4.859574\n",
      "2004  2.608696\n",
      "2005  2.792727\n",
      "2006  1.444231\n",
      "2007  2.034694\n",
      "2008  2.531373\n",
      "2009  2.786000\n",
      "2010  1.827451\n",
      "2011  1.975926\n",
      "2012  1.180357\n",
      "2013  1.605882\n",
      "2014  0.446154\n",
      "2015  0.373810\n",
      "2016 -0.182222\n"
     ]
    }
   ],
   "source": [
    "print(df_VORP)"
   ]
  },
  {
   "cell_type": "code",
   "execution_count": 160,
   "metadata": {
    "collapsed": false
   },
   "outputs": [],
   "source": [
    "predictions = []\n",
    "for i in range(2010,2017):\n",
    "    df_temp = queryYear(df_query,i)\n",
    "    predictions.append(np.mean(rf.predict(df_temp[cols])))"
   ]
  },
  {
   "cell_type": "code",
   "execution_count": 161,
   "metadata": {
    "collapsed": false
   },
   "outputs": [
    {
     "name": "stdout",
     "output_type": "stream",
     "text": [
      "[1.5503333333333336, 1.7761666666666669, 1.0978333333333334, 1.363, 0.38608333333333333, 0.26083333333333336, -0.14108333333333334]\n"
     ]
    }
   ],
   "source": [
    "print(predictions)"
   ]
  },
  {
   "cell_type": "code",
   "execution_count": 155,
   "metadata": {
    "collapsed": false
   },
   "outputs": [],
   "source": [
    "for i in range(0,3):\n",
    "    df_VORP.iloc[29+i][0] = predictions[i]\n",
    "    "
   ]
  },
  {
   "cell_type": "code",
   "execution_count": 157,
   "metadata": {
    "collapsed": false
   },
   "outputs": [
    {
     "data": {
      "text/html": [
       "<div>\n",
       "<style>\n",
       "    .dataframe thead tr:only-child th {\n",
       "        text-align: right;\n",
       "    }\n",
       "\n",
       "    .dataframe thead th {\n",
       "        text-align: left;\n",
       "    }\n",
       "\n",
       "    .dataframe tbody tr th {\n",
       "        vertical-align: top;\n",
       "    }\n",
       "</style>\n",
       "<table border=\"1\" class=\"dataframe\">\n",
       "  <thead>\n",
       "    <tr style=\"text-align: right;\">\n",
       "      <th></th>\n",
       "      <th>NBA VORP</th>\n",
       "    </tr>\n",
       "    <tr>\n",
       "      <th>Year</th>\n",
       "      <th></th>\n",
       "    </tr>\n",
       "  </thead>\n",
       "  <tbody>\n",
       "    <tr>\n",
       "      <th>2012</th>\n",
       "      <td>1.180357</td>\n",
       "    </tr>\n",
       "    <tr>\n",
       "      <th>2013</th>\n",
       "      <td>1.605882</td>\n",
       "    </tr>\n",
       "    <tr>\n",
       "      <th>2014</th>\n",
       "      <td>0.386083</td>\n",
       "    </tr>\n",
       "    <tr>\n",
       "      <th>2015</th>\n",
       "      <td>0.260833</td>\n",
       "    </tr>\n",
       "    <tr>\n",
       "      <th>2016</th>\n",
       "      <td>-0.141083</td>\n",
       "    </tr>\n",
       "  </tbody>\n",
       "</table>\n",
       "</div>"
      ],
      "text/plain": [
       "      NBA VORP\n",
       "Year          \n",
       "2012  1.180357\n",
       "2013  1.605882\n",
       "2014  0.386083\n",
       "2015  0.260833\n",
       "2016 -0.141083"
      ]
     },
     "execution_count": 157,
     "metadata": {},
     "output_type": "execute_result"
    }
   ],
   "source": [
    "df_VORP.tail()"
   ]
  },
  {
   "cell_type": "code",
   "execution_count": null,
   "metadata": {
    "collapsed": true
   },
   "outputs": [],
   "source": []
  }
 ],
 "metadata": {
  "kernelspec": {
   "display_name": "Python 3",
   "language": "python",
   "name": "python3"
  },
  "language_info": {
   "codemirror_mode": {
    "name": "ipython",
    "version": 3
   },
   "file_extension": ".py",
   "mimetype": "text/x-python",
   "name": "python",
   "nbconvert_exporter": "python",
   "pygments_lexer": "ipython3",
   "version": "3.6.1"
  }
 },
 "nbformat": 4,
 "nbformat_minor": 2
}
