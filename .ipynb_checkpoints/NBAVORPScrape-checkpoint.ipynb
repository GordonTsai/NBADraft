{
 "cells": [
  {
   "cell_type": "code",
   "execution_count": 117,
   "metadata": {
    "collapsed": false
   },
   "outputs": [],
   "source": [
    "%matplotlib inline\n",
    "import pprint  \n",
    "import math\n",
    "import numpy as np\n",
    "import numpy.random as npr\n",
    "import pandas as pd\n",
    "import random\n",
    "from scipy import stats\n",
    "from scipy.stats import norm\n",
    "import seaborn as sns\n",
    "import matplotlib.pyplot as plt\n",
    "from bs4 import BeautifulSoup\n",
    "import requests\n",
    "import mechanize\n",
    "import csv\n",
    "import time\n",
    "import re"
   ]
  },
  {
   "cell_type": "code",
   "execution_count": 169,
   "metadata": {
    "collapsed": false
   },
   "outputs": [],
   "source": [
    "def url_change(playerID):\n",
    "    url = 'http://www.basketball-reference.com/players/'+playerID[0]+'/'+playerID+'.html#all_advanced'\n",
    "    return url\n",
    "\n",
    "####Browser mechanize functionality\n",
    "#br = mechanize.Browser(factory=mechanize.RobustFactory())\n",
    "br = mechanize.Browser()\n",
    "# cartype = 'Rolls-Royce'\n",
    "# url = 'http://www.everycarlisted.com/search/vehicle_condition-New/make-'+cartype+'/year-2017-2017/page-'\n",
    "# br.open(url+str(1))\n",
    "# response = br.response()\n",
    "# soup = BeautifulSoup(response,\"html.parser\")\n",
    "\n",
    "def Open_Browser(url):\n",
    "    br.open(url)\n",
    "    response = br.response()\n",
    "    soup = BeautifulSoup(response,\"html.parser\")\n",
    "    return soup\n",
    "\n",
    "def web2var(string):\n",
    "    string = string.replace('+','')\n",
    "    string = string.replace('-','')\n",
    "    return string\n",
    "\n",
    "def var2web(string):\n",
    "    if ' ' in string:\n",
    "        string = string.replace(' ','+')\n",
    "    return string\n",
    "\n",
    "def getMaxVORP(playerID):\n",
    "    stringMatch = 'data-stat=\"vorp\"'\n",
    "    regex = '[+-]?\\d+(?:\\.\\d+)?'\n",
    "    url = url_change(playerID)\n",
    "    soup = Open_Browser(url)\n",
    "    soup = soup.find('div',{\"id\":\"all_advanced\"})\n",
    "    soup_txt = str(soup.contents)\n",
    "    vorp = []\n",
    "    for m in re.finditer(stringMatch, soup_txt):\n",
    "        num = re.findall(regex, soup_txt[m.start()+len(stringMatch)+2:m.end()+6])\n",
    "        vorp.append(num)\n",
    "    vorp = max(vorp)\n",
    "    return vorp"
   ]
  },
  {
   "cell_type": "code",
   "execution_count": 170,
   "metadata": {
    "collapsed": true
   },
   "outputs": [],
   "source": [
    "playerID = 'jamesbe01'"
   ]
  },
  {
   "cell_type": "code",
   "execution_count": 171,
   "metadata": {
    "collapsed": false
   },
   "outputs": [
    {
     "data": {
      "text/plain": [
       "['0.2']"
      ]
     },
     "execution_count": 171,
     "metadata": {},
     "output_type": "execute_result"
    }
   ],
   "source": [
    "getMaxVORP(playerID)"
   ]
  }
 ],
 "metadata": {
  "kernelspec": {
   "display_name": "Python 2",
   "language": "python",
   "name": "python2"
  },
  "language_info": {
   "codemirror_mode": {
    "name": "ipython",
    "version": 2
   },
   "file_extension": ".py",
   "mimetype": "text/x-python",
   "name": "python",
   "nbconvert_exporter": "python",
   "pygments_lexer": "ipython2",
   "version": "2.7.13"
  }
 },
 "nbformat": 4,
 "nbformat_minor": 2
}
